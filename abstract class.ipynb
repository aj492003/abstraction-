{
 "cells": [
  {
   "cell_type": "code",
   "execution_count": 1,
   "id": "fa59aa12-ac2b-4da0-9a70-db67942bb96f",
   "metadata": {},
   "outputs": [],
   "source": [
    "import abc\n",
    "class pwskills:\n",
    "    \n",
    "    @abc.abstractmethod\n",
    "    def students_details(self):\n",
    "        pass\n",
    "    \n",
    "    @abc.abstractmethod\n",
    "    def students_assignment(self):\n",
    "        pass\n",
    "    \n",
    "    @abc.abstractmethod\n",
    "    def students_marks(self):\n",
    "        pass\n",
    "    \n",
    "    "
   ]
  },
  {
   "cell_type": "code",
   "execution_count": 2,
   "id": "76bc74ee-1495-4978-96ce-44f885719cd3",
   "metadata": {},
   "outputs": [],
   "source": [
    "class student_details(pwskills):\n",
    "    \n",
    "    def students_details(self):\n",
    "        return \"this is a method for takking students details\"\n",
    "    \n",
    "    \n",
    "    def student_assignment(self):\n",
    "        return \"this is a method for assignment details for a particular student\""
   ]
  },
  {
   "cell_type": "code",
   "execution_count": 3,
   "id": "eefd9249-0586-4174-ab6f-b172ab190001",
   "metadata": {},
   "outputs": [],
   "source": [
    "class data_science_masters(pwskills):\n",
    "    \n",
    "    def students_details(self):\n",
    "        return \"this will return a student details for data science masters\"\n",
    "    \n",
    "    \n",
    "    def student_assignment(self):\n",
    "        return \"this will give you a student assignment details for data science masters\""
   ]
  },
  {
   "cell_type": "code",
   "execution_count": 4,
   "id": "2374e8b7-08b8-4e28-9473-2e2afb4d7ff4",
   "metadata": {},
   "outputs": [
    {
     "data": {
      "text/plain": [
       "'this will return a student details for data science masters'"
      ]
     },
     "execution_count": 4,
     "metadata": {},
     "output_type": "execute_result"
    }
   ],
   "source": [
    "dsm = data_science_masters()\n",
    "dsm.students_details()"
   ]
  },
  {
   "cell_type": "code",
   "execution_count": null,
   "id": "1587edea-3e4e-4f75-89b9-794018a1db2c",
   "metadata": {},
   "outputs": [],
   "source": [
    "sd = student_details()\n",
    "s"
   ]
  }
 ],
 "metadata": {
  "kernelspec": {
   "display_name": "Python 3 (ipykernel)",
   "language": "python",
   "name": "python3"
  },
  "language_info": {
   "codemirror_mode": {
    "name": "ipython",
    "version": 3
   },
   "file_extension": ".py",
   "mimetype": "text/x-python",
   "name": "python",
   "nbconvert_exporter": "python",
   "pygments_lexer": "ipython3",
   "version": "3.10.8"
  }
 },
 "nbformat": 4,
 "nbformat_minor": 5
}
